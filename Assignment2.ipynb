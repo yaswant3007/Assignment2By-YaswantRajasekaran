{
 "cells": [
  {
   "cell_type": "markdown",
   "metadata": {},
   "source": [
    "# Python List:\n",
    "1. Create your own lists otherwise use the List1 = ['hello','GUVI','GEEK'] to\n",
    "perform the below Python list Operations?\n",
    "A. Repetition (*)\n",
    "B. Concatenation (+)\n",
    "C. Membership\n",
    "D. Length\n",
    "E. Iteration\n",
    "1.A. Repetition:\n",
    "In [ ]:\n",
    "1.B. Concatenation (+):\n",
    "In [ ]:\n",
    "1.C. Membership:\n",
    "In [ ]:\n",
    "1.D. Length:\n",
    "In [ ]:\n",
    "1.E. Iteration:"
   ]
  },
  {
   "cell_type": "code",
   "execution_count": 1,
   "metadata": {},
   "outputs": [
    {
     "name": "stdout",
     "output_type": "stream",
     "text": [
      "['hello', 'GUVI', 'GEEK', 'hello', 'GUVI', 'GEEK']\n"
     ]
    }
   ],
   "source": [
    "#List\n",
    "#1.)A. Repetition\n",
    "List1 = ['hello','GUVI','GEEK']\n",
    "rep=List1*2\n",
    "print(rep)"
   ]
  },
  {
   "cell_type": "code",
   "execution_count": 2,
   "metadata": {},
   "outputs": [
    {
     "name": "stdout",
     "output_type": "stream",
     "text": [
      "['hello', 'GUVI', 'GEEK', 'hello', 'GUVI', 'GEEK']\n"
     ]
    }
   ],
   "source": [
    "#1.)B. Concatination\n",
    "List1 = ['hello','GUVI','GEEK']\n",
    "lis=List1+List1\n",
    "print(lis)\n"
   ]
  },
  {
   "cell_type": "code",
   "execution_count": 5,
   "metadata": {},
   "outputs": [
    {
     "name": "stdout",
     "output_type": "stream",
     "text": [
      "True\n"
     ]
    }
   ],
   "source": [
    "#1.)C. Membership\n",
    "List1 = ['hello','GUVI','GEEK']\n",
    "print('GUVI' in List1)"
   ]
  },
  {
   "cell_type": "code",
   "execution_count": 6,
   "metadata": {},
   "outputs": [
    {
     "name": "stdout",
     "output_type": "stream",
     "text": [
      "3\n"
     ]
    }
   ],
   "source": [
    "#1.)D. Length\n",
    "List1 = ['hello','GUVI','GEEK']\n",
    "print(len(List1))"
   ]
  },
  {
   "cell_type": "code",
   "execution_count": 7,
   "metadata": {},
   "outputs": [
    {
     "name": "stdout",
     "output_type": "stream",
     "text": [
      "hello\n",
      "GUVI\n",
      "GEEK\n"
     ]
    }
   ],
   "source": [
    "#1.)E. Iteration\n",
    "List1 = ['hello','GUVI','GEEK']\n",
    "for i in List1:\n",
    "    print(i)"
   ]
  },
  {
   "cell_type": "markdown",
   "metadata": {},
   "source": [
    "2.1. Create your own lists to perform the below Python List Built-in functions?\n",
    "otherwise use the\n",
    "List1 = [15, 300, 2700, 821]\n",
    "List2 = [12, 2]\n",
    "List3 = [34, 567, 78]\n",
    "A. max(list)\n",
    "B. min(list)\n",
    "C. list(seq)\n",
    "2.A) max():\n",
    "2.B) min():\n",
    "2.C) list:\n"
   ]
  },
  {
   "cell_type": "code",
   "execution_count": 8,
   "metadata": {},
   "outputs": [
    {
     "name": "stdout",
     "output_type": "stream",
     "text": [
      "Maximum value in List 1 is 2700\n",
      "Maximum value in List 2 is 12\n",
      "Maximum value in List 3 is 567\n"
     ]
    }
   ],
   "source": [
    " #2.)A.)max()\n",
    "List1 = [15, 300, 2700, 821]\n",
    "List2 = [12, 2]\n",
    "List3 = [34, 567, 78]\n",
    "print(\"Maximum value in List 1 is\",max(List1))\n",
    "print(\"Maximum value in List 2 is\",max(List2))\n",
    "print(\"Maximum value in List 3 is\",max(List3))"
   ]
  },
  {
   "cell_type": "code",
   "execution_count": 9,
   "metadata": {},
   "outputs": [
    {
     "name": "stdout",
     "output_type": "stream",
     "text": [
      "Minimum value in List 1 is 15\n",
      "Minimum value in List 2 is 2\n",
      "Minimum value in List 3 is 34\n"
     ]
    }
   ],
   "source": [
    "#2.)B.)min()\n",
    "List1 = [15, 300, 2700, 821]\n",
    "List2 = [12, 2]\n",
    "List3 = [34, 567, 78]\n",
    "print(\"Minimum value in List 1 is\",min(List1))\n",
    "print(\"Minimum value in List 2 is\",min(List2))\n",
    "print(\"Minimum value in List 3 is\",min(List3))"
   ]
  },
  {
   "cell_type": "code",
   "execution_count": 12,
   "metadata": {},
   "outputs": [
    {
     "name": "stdout",
     "output_type": "stream",
     "text": [
      "['A', 'p', 'p', 'l', 'e', 'P', 'i', 'e']\n"
     ]
    }
   ],
   "source": [
    "#2.)c.) list()\n",
    "StringA = 'ApplePie'\n",
    "List4 = list(StringA)\n",
    "print(List4)"
   ]
  },
  {
   "cell_type": "markdown",
   "metadata": {},
   "source": [
    "3. Create your own lists to perform the below Python List built-in methods\n",
    "A. list.append()\n",
    "B. list.clear()\n",
    "C. List.copy()\n",
    "D. list.count()\n",
    "E. list.extend()\n",
    "F. list.index()\n",
    "G. list.insert()\n",
    "H. list.pop()\n",
    "I. list.remove()\n",
    "J. list.reverse()\n",
    "K. list.sort()\n",
    "3.A) append:\n",
    "3.B) list.clear():\n",
    "3.C) List.copy()\n",
    "3. D) list.count(obj):\n",
    "3.E) list.extend(seq):\n",
    "3.F) list.index(obj):\n",
    "3.G) list.insert(index, obj):\n",
    "3.H) list.pop(obj=list[-1]):\n",
    "3.I) list.remove(obj):\n",
    "3.j) list.reverse():\n",
    "3.K) list.sort([func]):\n"
   ]
  },
  {
   "cell_type": "code",
   "execution_count": 2,
   "metadata": {},
   "outputs": [
    {
     "name": "stdout",
     "output_type": "stream",
     "text": [
      "[1, 3, 'A', 'C', 'D', 'B']\n"
     ]
    }
   ],
   "source": [
    "#3.)A.) list.append()\n",
    "List5=[1,3,\"A\",\"C\",\"D\"]\n",
    "List5.append(\"B\")\n",
    "print(List5)"
   ]
  },
  {
   "cell_type": "code",
   "execution_count": 4,
   "metadata": {},
   "outputs": [
    {
     "name": "stdout",
     "output_type": "stream",
     "text": [
      "[1, 2, 5, 6, 'a', 'S']\n",
      "[]\n"
     ]
    }
   ],
   "source": [
    "#3.)B.) list.clear()\n",
    "ListA=[1,2,5,6,\"a\",\"S\"]\n",
    "print(ListA)\n",
    "ListA.clear()\n",
    "print(ListA)"
   ]
  },
  {
   "cell_type": "code",
   "execution_count": 5,
   "metadata": {},
   "outputs": [
    {
     "name": "stdout",
     "output_type": "stream",
     "text": [
      "ListB = [1, 3, 5, 6, 'Lemon', 'Apple', 'orange']\n",
      "ListC = [1, 3, 5, 6, 'Lemon', 'Apple', 'orange']\n"
     ]
    }
   ],
   "source": [
    "#3.)C.) list.copy()\n",
    "ListB=[1,3,5,6,\"Lemon\",\"Apple\",\"orange\"]\n",
    "print(\"ListB =\",ListB)\n",
    "ListC=ListB.copy()\n",
    "print(\"ListC =\",ListC)"
   ]
  },
  {
   "cell_type": "code",
   "execution_count": 6,
   "metadata": {},
   "outputs": [
    {
     "name": "stdout",
     "output_type": "stream",
     "text": [
      "ListD = ['a', 'c', 'a', 'a', 'd', 'l', 'a', 'k']\n",
      "The number of times 'a' is repeated in ListD is 4\n"
     ]
    }
   ],
   "source": [
    "#3.)D.)list.count(obj)\n",
    "ListD = [\"a\",\"c\",\"a\",\"a\",\"d\",\"l\",\"a\",\"k\"]\n",
    "print(\"ListD =\",ListD)\n",
    "print(\"The number of times 'a' is repeated in ListD is\", ListD.count(\"a\"))"
   ]
  },
  {
   "cell_type": "code",
   "execution_count": 7,
   "metadata": {},
   "outputs": [
    {
     "name": "stdout",
     "output_type": "stream",
     "text": [
      "The complete list of fruits is ['Apple', 'Mango', 'Durian Fruit', 'Avocado', 'Dragon Fruit', 'Orange', 'Grapes', 'Banana', 'Watermelon', 'Strawberry']\n"
     ]
    }
   ],
   "source": [
    "#3.)E.) list.extend(seq)\n",
    "ListE = [\"Apple\",\"Mango\",\"Durian Fruit\",\"Avocado\"]\n",
    "ListF = [\"Dragon Fruit\", \"Orange\", \"Grapes\", \"Banana\",\"Watermelon\", \"Strawberry\"]\n",
    "ListE.extend(ListF)\n",
    "print(\"The complete list of fruits is\", ListE)"
   ]
  },
  {
   "cell_type": "code",
   "execution_count": 8,
   "metadata": {},
   "outputs": [
    {
     "name": "stdout",
     "output_type": "stream",
     "text": [
      "ListG = [1, 5, 8, 24, 9, 56, 2]\n",
      "The index of 24 in ListG is 3\n"
     ]
    }
   ],
   "source": [
    "#3.)F.)list.index(obj)\n",
    "ListG = [1,5,8,24,9,56,2]\n",
    "print(\"ListG =\",ListG)\n",
    "print(\"The index of 24 in ListG is\",ListG.index(24))"
   ]
  },
  {
   "cell_type": "code",
   "execution_count": 12,
   "metadata": {},
   "outputs": [
    {
     "name": "stdout",
     "output_type": "stream",
     "text": [
      "ListH = [1, 2, 4, 5, 6, 7, 8, 9]\n",
      "ListH after inserting 3 in index 2: [1, 2, 3, 4, 5, 6, 7, 8, 9]\n"
     ]
    }
   ],
   "source": [
    "#3.)g.)list.insert(index,obj)\n",
    "ListH = [1,2,4,5,6,7,8,9]\n",
    "print(\"ListH =\",ListH)\n",
    "ListH.insert(2,3)\n",
    "print(\"ListH after inserting 3 in index 2:\",ListH)"
   ]
  },
  {
   "cell_type": "code",
   "execution_count": 13,
   "metadata": {},
   "outputs": [
    {
     "name": "stdout",
     "output_type": "stream",
     "text": [
      "ListI ['Drumstick', 'Tomato', 'Onion', 'Eggplant', 'Potato']\n",
      "Return Value : Eggplant\n",
      "Updated ListI : ['Drumstick', 'Tomato', 'Onion', 'Potato']\n"
     ]
    }
   ],
   "source": [
    "#3.)H.) list.pop(obj=list[-1])\n",
    "ListI = [\"Drumstick\",\"Tomato\",\"Onion\", \"Eggplant\",\"Potato\"]\n",
    "print(\"ListI\",ListI)\n",
    "Return_Value = ListI.pop(-2)\n",
    "print(\"Return Value :\",Return_Value)\n",
    "print(\"Updated ListI :\",ListI)"
   ]
  },
  {
   "cell_type": "code",
   "execution_count": 15,
   "metadata": {},
   "outputs": [
    {
     "name": "stdout",
     "output_type": "stream",
     "text": [
      "ListJ = [1, 2, 3, 'King', 4, 5, 6, 7, 8, 9, 10]\n",
      "The ListJ after removing 'King' is [1, 2, 3, 4, 5, 6, 7, 8, 9, 10]\n"
     ]
    }
   ],
   "source": [
    "#3.)I.)list.remove(obj)\n",
    "ListJ = [1,2,3,\"King\",4,5,6,7,8,9,10]\n",
    "print(\"ListJ =\",ListJ)\n",
    "ListJ.remove(\"King\")\n",
    "print(\"The ListJ after removing 'King' is\",ListJ)"
   ]
  },
  {
   "cell_type": "code",
   "execution_count": 16,
   "metadata": {},
   "outputs": [
    {
     "name": "stdout",
     "output_type": "stream",
     "text": [
      "ListK is [1, 2, 3, 4, 5]\n",
      "Reverse of ListK is [5, 4, 3, 2, 1]\n"
     ]
    }
   ],
   "source": [
    "#3.)J.)list.reverse()\n",
    "ListK = [1,2,3,4,5]\n",
    "print(\"ListK is\",ListK)\n",
    "ListK.reverse()\n",
    "print(\"Reverse of ListK is\",ListK)"
   ]
  },
  {
   "cell_type": "code",
   "execution_count": 18,
   "metadata": {},
   "outputs": [
    {
     "name": "stdout",
     "output_type": "stream",
     "text": [
      "ListL = [9876, 3, 78, 234, 6574839, 8, 78687, 233, 57, -5, 0, -345]\n",
      "ListL sorted in ascending order = [-345, -5, 0, 3, 8, 57, 78, 233, 234, 9876, 78687, 6574839]\n",
      "ListL sorted in descending Order = [6574839, 78687, 9876, 234, 233, 78, 57, 8, 3, 0, -5, -345]\n"
     ]
    }
   ],
   "source": [
    "#3.)K.)list.sort([func])\n",
    "ListL = [9876,3,78,234,6574839,8,78687,233,57,-5,0,-345]\n",
    "print(\"ListL =\",ListL)\n",
    "ListL.sort()\n",
    "print(\"ListL sorted in ascending order =\",ListL)\n",
    "ListL = [9876,3,78,234,6574839,8,78687,233,57,-5,0,-345]\n",
    "ListL.sort(reverse=True)\n",
    "print(\"ListL sorted in descending Order =\",ListL)\n"
   ]
  },
  {
   "cell_type": "markdown",
   "metadata": {},
   "source": [
    "# Python Tuple\n",
    "Create your own Tuple to perform the below Python tuple Operations ?\n",
    "otherwise use the below\n",
    "Tuple1 = ('a','b','c','d')\n",
    "Tuple2 = ('e','f','g','h')\n",
    "1. Tuple Operations\n",
    "A. Repetition (*)\n",
    "B. Concatenation (+)\n",
    "C. Membership\n",
    "D. Length\n",
    "E. Iteration\n",
    "1.A. Repetition:\n",
    "1.B. Concatenation (+):\n",
    "1.C) Membership:\n",
    "1.D) Length:\n",
    "1.E) Iteration:"
   ]
  },
  {
   "cell_type": "code",
   "execution_count": 19,
   "metadata": {},
   "outputs": [
    {
     "name": "stdout",
     "output_type": "stream",
     "text": [
      "A list made by repeating the elements of Tuple1 for 3 times is ('a', 'b', 'c', 'd', 'a', 'b', 'c', 'd', 'a', 'b', 'c', 'd')\n",
      "A list made by repeating the elements of Tuple2 for 6 times is ('e', 'f', 'g', 'h', 'e', 'f', 'g', 'h', 'e', 'f', 'g', 'h', 'e', 'f', 'g', 'h', 'e', 'f', 'g', 'h', 'e', 'f', 'g', 'h')\n"
     ]
    }
   ],
   "source": [
    "#Tuple\n",
    "#1.)A.)Repitition:\n",
    "Tuple1 = ('a','b','c','d')\n",
    "Tuple2 = ('e','f','g','h')\n",
    "T1=Tuple1*3\n",
    "T2=Tuple2*6\n",
    "print(\"A tuple made by repeating the elements of Tuple1 for 3 times is\",T1)\n",
    "print(\"A tuple made by repeating the elements of Tuple2 for 6 times is\",T2)"
   ]
  },
  {
   "cell_type": "code",
   "execution_count": 20,
   "metadata": {},
   "outputs": [
    {
     "name": "stdout",
     "output_type": "stream",
     "text": [
      "The tuple formed by the concatenation of Tuple1 and Tuple2 is ('a', 'b', 'c', 'd', 'e', 'f', 'g', 'h')\n"
     ]
    }
   ],
   "source": [
    "#1.)B.)Concatention (+):\n",
    "Tuple1 = ('a','b','c','d')\n",
    "Tuple2 = ('e','f','g','h')\n",
    "ct = Tuple1 + Tuple2\n",
    "print(\"The tuple formed by the concatenation of Tuple1 and Tuple2 is\",ct)"
   ]
  },
  {
   "cell_type": "code",
   "execution_count": 23,
   "metadata": {},
   "outputs": [
    {
     "name": "stdout",
     "output_type": "stream",
     "text": [
      "Is 'b' a member of Tuple1 ? : True\n",
      "Is 'a' a member of Tuple2 ? : False\n"
     ]
    }
   ],
   "source": [
    "#1.)C.)Membership:\n",
    "Tuple1 = ('a','b','c','d')\n",
    "Tuple2 = ('e','f','g','h')\n",
    "print(\"Is 'b' a member of Tuple1 ? :\",'b' in Tuple1)\n",
    "print(\"Is 'a' a member of Tuple2 ? :\",'a' in Tuple2)"
   ]
  },
  {
   "cell_type": "code",
   "execution_count": 24,
   "metadata": {},
   "outputs": [
    {
     "name": "stdout",
     "output_type": "stream",
     "text": [
      "The length of Tuple1 is 4\n",
      "The length of Tuple2 is 4\n"
     ]
    }
   ],
   "source": [
    "#1.)D.)Length:\n",
    "Tuple1 = ('a','b','c','d')\n",
    "Tuple2 = ('e','f','g','h')\n",
    "print(\"The length of Tuple1 is\", len(Tuple1))\n",
    "print(\"The length of Tuple2 is\", len(Tuple2))"
   ]
  },
  {
   "cell_type": "code",
   "execution_count": 25,
   "metadata": {},
   "outputs": [
    {
     "name": "stdout",
     "output_type": "stream",
     "text": [
      "Iteration of Tuple1:\n",
      "a\n",
      "b\n",
      "c\n",
      "d\n",
      "Iteration of Tuple2:\n",
      "e\n",
      "f\n",
      "g\n",
      "h\n"
     ]
    }
   ],
   "source": [
    "#1.)E.)Iteration:\n",
    "Tuple1 = ('a','b','c','d')\n",
    "Tuple2 = ('e','f','g','h')\n",
    "for i in Tuple1:\n",
    "    if Tuple1.index(i)==0:\n",
    "        print(\"Iteration of Tuple1:\")\n",
    "        print(i)\n",
    "    else:\n",
    "        print(i)\n",
    "for j in Tuple2:\n",
    "    if Tuple2.index(j)==0:\n",
    "        print(\"Iteration of Tuple2:\")\n",
    "        print(j)\n",
    "    else:\n",
    "        print(j)\n"
   ]
  },
  {
   "cell_type": "markdown",
   "metadata": {},
   "source": [
    "2.Create your own Tuple to perform the below Python tuple inbuilt functions ?\n",
    "otherwise use the below\n",
    "Tuple1 =\n",
    "(1,4,2,4,5,6,3,5,4,6,77,8,7,7,876,89,8765,4,5,1,876,9,3456,4234)\n",
    "A. max(Tuple)\n",
    "B. min(Tuple)\n",
    "C. Tuple(seq)\n",
    "2.A) max():\n",
    "2.B) min():\n",
    "2.C) Tuple:"
   ]
  },
  {
   "cell_type": "code",
   "execution_count": 26,
   "metadata": {},
   "outputs": [
    {
     "name": "stdout",
     "output_type": "stream",
     "text": [
      "The Maximum value of element present in Tuple1 is 8765\n"
     ]
    }
   ],
   "source": [
    "#2.)A.)max():\n",
    "Tuple1 = (1,4,2,4,5,6,3,5,4,6,77,8,7,7,876,89,8765,4,5,1,876,9,3456,4234)\n",
    "print(\"The Maximum value of element present in Tuple1 is\",max(Tuple1))"
   ]
  },
  {
   "cell_type": "code",
   "execution_count": 27,
   "metadata": {},
   "outputs": [
    {
     "name": "stdout",
     "output_type": "stream",
     "text": [
      "The Minimum value of element present in Tuple1 is 1\n"
     ]
    }
   ],
   "source": [
    "#2.)B.)min():\n",
    "Tuple1 = (1,4,2,4,5,6,3,5,4,6,77,8,7,7,876,89,8765,4,5,1,876,9,3456,4234)\n",
    "print(\"The Minimum value of element present in Tuple1 is\",min(Tuple1))"
   ]
  },
  {
   "cell_type": "code",
   "execution_count": 29,
   "metadata": {},
   "outputs": [
    {
     "name": "stdout",
     "output_type": "stream",
     "text": [
      "ListM is converted into tuple and the result is  ('Apple', 1, 1.04, 7.8, 5, 9, 678, 'Peas', 789, 9.08765)\n"
     ]
    }
   ],
   "source": [
    "#2.)C.)Tuple(seq)\n",
    "ListM = [\"Apple\",1,1.04,7.8,5,9,678,\"Peas\",789,9.08765]\n",
    "print(\"ListM is converted into tuple and the result is \",tuple(ListM))"
   ]
  },
  {
   "cell_type": "markdown",
   "metadata": {},
   "source": [
    "# Python Set\n",
    "Create your own Set to operate the below Python Set Operations ?\n",
    "otherwise use the below set:\n",
    "Set1 = {1,4,2,4,5,6,3,5,4,6,77,8,7,7,876}\n",
    "Set2 = {3,432,5,6,4,6,7,6,5,6,54,567,5}\n",
    "1. Set Operations\n",
    "A. Union\n",
    "B. Intersection\n",
    "C. Difference\n",
    "D. Symmetric difference\n",
    "1.)A) Union:\n",
    "1.)B.) Intersection\n",
    "1.)C.) Difference\n",
    "1.)D.) Symmetric difference:"
   ]
  },
  {
   "cell_type": "code",
   "execution_count": 30,
   "metadata": {},
   "outputs": [
    {
     "name": "stdout",
     "output_type": "stream",
     "text": [
      "The union of Set1 and Set2 is {1, 2, 3, 4, 5, 6, 7, 8, 876, 77, 432, 54, 567}\n"
     ]
    }
   ],
   "source": [
    "#Set\n",
    "#1.)A.)Union\n",
    "Set1 = {1,4,2,4,5,6,3,5,4,6,77,8,7,7,876}\n",
    "Set2 = {3,432,5,6,4,6,7,6,5,6,54,567,5}\n",
    "print(\"The union of Set1 and Set2 is\",Set1|Set2)"
   ]
  },
  {
   "cell_type": "code",
   "execution_count": 31,
   "metadata": {},
   "outputs": [
    {
     "name": "stdout",
     "output_type": "stream",
     "text": [
      "The intersection of Set1 and Set2 is {3, 4, 5, 6, 7}\n"
     ]
    }
   ],
   "source": [
    "#1.)B.)Intersection\n",
    "Set1 = {1,4,2,4,5,6,3,5,4,6,77,8,7,7,876}\n",
    "Set2 = {3,432,5,6,4,6,7,6,5,6,54,567,5}\n",
    "print(\"The intersection of Set1 and Set2 is\",Set1&Set2)"
   ]
  },
  {
   "cell_type": "code",
   "execution_count": 32,
   "metadata": {},
   "outputs": [
    {
     "name": "stdout",
     "output_type": "stream",
     "text": [
      "The difference between Set1 and Set2 is {1, 2, 8, 876, 77}\n"
     ]
    }
   ],
   "source": [
    "#1.)C.)Difference\n",
    "Set1 = {1,4,2,4,5,6,3,5,4,6,77,8,7,7,876}\n",
    "Set2 = {3,432,5,6,4,6,7,6,5,6,54,567,5}\n",
    "print(\"The difference between Set1 and Set2 is\",Set1-Set2)"
   ]
  },
  {
   "cell_type": "code",
   "execution_count": 33,
   "metadata": {},
   "outputs": [
    {
     "name": "stdout",
     "output_type": "stream",
     "text": [
      "The symmetric difference between Set1 and Set2 is {1, 2, 8, 876, 77, 432, 54, 567}\n"
     ]
    }
   ],
   "source": [
    "#1.)C.) Symmetric difference\n",
    "Set1 = {1,4,2,4,5,6,3,5,4,6,77,8,7,7,876}\n",
    "Set2 = {3,432,5,6,4,6,7,6,5,6,54,567,5}\n",
    "print(\"The symmetric difference between Set1 and Set2 is\",Set1^Set2)"
   ]
  },
  {
   "cell_type": "markdown",
   "metadata": {},
   "source": [
    "# Python Dictionary\n",
    "Create your own Dictionary to perform the below Python Built-in Dictionary\n",
    "functions\n",
    "otherwise use the below Dictionary:\n",
    "dict = {'Name': 'Student', 'Age': 27};\n",
    "A. len(dict)\n",
    "B. str(dict)\n",
    "C. type(variable)\n",
    "1.A) len(dict):\n",
    "1.B) str(dict):\n",
    "1.C) type(variable):"
   ]
  },
  {
   "cell_type": "code",
   "execution_count": 1,
   "metadata": {},
   "outputs": [
    {
     "name": "stdout",
     "output_type": "stream",
     "text": [
      "The length of the dictionary dict is 2\n"
     ]
    }
   ],
   "source": [
    "#Dictionary\n",
    "#1.)A)len(dict)\n",
    "dict = {'Name': 'Student', 'Age': 27}\n",
    "print(\"The length of the dictionary dict is\",len(dict))"
   ]
  },
  {
   "cell_type": "code",
   "execution_count": 3,
   "metadata": {},
   "outputs": [
    {
     "name": "stdout",
     "output_type": "stream",
     "text": [
      "The following is the result when dict dictionary is converted into a string:\n",
      "{'Name': 'Student', 'Age': 27}\n"
     ]
    }
   ],
   "source": [
    "#1.)B.)str(dict)\n",
    "dict = {'Name': 'Student', 'Age': 27}\n",
    "print(\"The following is the result when dict dictionary is converted into a string:\")\n",
    "print(str(dict))"
   ]
  },
  {
   "cell_type": "code",
   "execution_count": 4,
   "metadata": {},
   "outputs": [
    {
     "name": "stdout",
     "output_type": "stream",
     "text": [
      "The type of dict variable is found to be : <class 'dict'>\n"
     ]
    }
   ],
   "source": [
    "#1.)c.)type(variable)\n",
    "dict = {'Name': 'Student', 'Age': 27}\n",
    "print(\"The type of dict variable is found to be :\", type(dict))"
   ]
  },
  {
   "cell_type": "markdown",
   "metadata": {},
   "source": [
    "2.Create your own Dictionary to perform the below Python Built-in Dictionary\n",
    "methods\n",
    "otherwise use the below Dictionary:\n",
    "dictionaries = {0:\" Data\",1: \"GUVI\", 2:\n",
    "\"GEEK\",3:\"Python\",4:\"Happy\"}\n",
    "A. dict.clear()\n",
    "B. dict.copy()\n",
    "C. dict.fromkeys()\n",
    "D. dict.get(key[, value])\n",
    "E. dict.items()\n",
    "F. dict.keys()\n",
    "G. dict.setdefault()\n",
    "H. dict.update()\n",
    "I. dict.values()\n",
    "2.A) dict.clear():\n",
    "2.B) dict.copy():\n",
    "2.C) dict.fromkeys():\n",
    "2.D) dict.get(key[, value]) :\n",
    "2.E) dict.items():\n",
    "2.F) dict.keys() :\n",
    "2.G) dict.setdefault():\n",
    "2.H) dict.update():\n",
    "2.L) dict.values():"
   ]
  },
  {
   "cell_type": "code",
   "execution_count": 6,
   "metadata": {},
   "outputs": [
    {
     "name": "stdout",
     "output_type": "stream",
     "text": [
      "dictionaries = {0: ' Data', 1: 'GUVI', 2: 'GEEK', 3: 'Python', 4: 'Happy'}\n",
      "When clear fuction is used on a dictionary then the following would be the result: {}\n"
     ]
    }
   ],
   "source": [
    "#2.)A.)dict.clear()\n",
    "dictionaries = {0:\" Data\",1: \"GUVI\", 2:\"GEEK\",3:\"Python\",4:\"Happy\"}\n",
    "print(\"dictionaries =\",dictionaries)\n",
    "dictionaries.clear()\n",
    "print(\"When clear fuction is used on a dictionary then the following would be the result:\",dictionaries)"
   ]
  },
  {
   "cell_type": "code",
   "execution_count": 7,
   "metadata": {},
   "outputs": [
    {
     "name": "stdout",
     "output_type": "stream",
     "text": [
      "When the dictionary 'dictionaries' get copied into dictA then dictA = {0: ' Data', 1: 'GUVI', 2: 'GEEK', 3: 'Python', 4: 'Happy'}\n"
     ]
    }
   ],
   "source": [
    "#2.)B.)dict.copy()\n",
    "dictionaries = {0:\" Data\",1: \"GUVI\", 2:\"GEEK\",3:\"Python\",4:\"Happy\"}\n",
    "dictA = dictionaries.copy()\n",
    "print(\"When the dictionary 'dictionaries' get copied into dictA then dictA =\",dictA)"
   ]
  },
  {
   "cell_type": "code",
   "execution_count": 12,
   "metadata": {},
   "outputs": [
    {
     "name": "stdout",
     "output_type": "stream",
     "text": [
      "{'Serial_Number': 10, 'Weight': 10, 'Height': 10, 'Age': 10}\n"
     ]
    }
   ],
   "source": [
    "#2.)C.) dict.fromkeys()\n",
    "s=(\"Serial_Number\",\"Weight\",\"Height\",\"Age\")\n",
    "dict=dict.fromkeys(s,10)\n",
    "print(dict)"
   ]
  },
  {
   "cell_type": "code",
   "execution_count": 14,
   "metadata": {},
   "outputs": [
    {
     "name": "stdout",
     "output_type": "stream",
     "text": [
      "The following is the ouput when we give '2'in the get funtion to return the value corresponding to the key '2': GEEK\n"
     ]
    }
   ],
   "source": [
    "#2.)D.)dict.get(key[,value])\n",
    "dictionaries = {0:\" Data\",1: \"GUVI\", 2:\"GEEK\",3:\"Python\",4:\"Happy\"}\n",
    "print(\"The following is the ouput when we give '2'in the get funtion to return the value corresponding to the key '2':\",dictionaries.get(2))"
   ]
  },
  {
   "cell_type": "code",
   "execution_count": 15,
   "metadata": {},
   "outputs": [
    {
     "name": "stdout",
     "output_type": "stream",
     "text": [
      "dict_items([(0, ' Data'), (1, 'GUVI'), (2, 'GEEK'), (3, 'Python'), (4, 'Happy')])\n"
     ]
    }
   ],
   "source": [
    "#2.)E.)dict.items()\n",
    "dictionaries = {0:\" Data\",1: \"GUVI\", 2:\"GEEK\",3:\"Python\",4:\"Happy\"}\n",
    "d = dictionaries.items()\n",
    "print(d)"
   ]
  },
  {
   "cell_type": "code",
   "execution_count": 16,
   "metadata": {},
   "outputs": [
    {
     "name": "stdout",
     "output_type": "stream",
     "text": [
      "dict_keys([0, 1, 2, 3, 4])\n"
     ]
    }
   ],
   "source": [
    "#2.)F.) dict.keys()\n",
    "dictionaries = {0:\" Data\",1: \"GUVI\", 2:\"GEEK\",3:\"Python\",4:\"Happy\"}\n",
    "g=dictionaries.keys()\n",
    "print(g)"
   ]
  },
  {
   "cell_type": "code",
   "execution_count": 18,
   "metadata": {},
   "outputs": [
    {
     "name": "stdout",
     "output_type": "stream",
     "text": [
      "d1 = {'Name': 'Tom Hanks', 'Age': 45}\n",
      "Age = 45\n"
     ]
    }
   ],
   "source": [
    "#2.)G.) dict.setdefault()\n",
    "d1={'Name':'Tom Hanks'}\n",
    "Age=d1.setdefault('Age',45)\n",
    "print(\"d1 =\",d1)\n",
    "print(\"Age =\",Age)"
   ]
  },
  {
   "cell_type": "code",
   "execution_count": 19,
   "metadata": {},
   "outputs": [
    {
     "name": "stdout",
     "output_type": "stream",
     "text": [
      "Before Update : {'Name': 'Fredrick Richard', 'Age': 39, 'Profession': 'Doctor'}\n",
      "After Update : {'Name': 'Fredrick Richard', 'Age': 47, 'Profession': 'Engineer'}\n"
     ]
    }
   ],
   "source": [
    "#2.)H.)dict.update()\n",
    "d2={'Name':'Fredrick Richard','Age':39,'Profession':'Doctor'}\n",
    "print(\"Before Update :\",d2)\n",
    "d3={'Age':47,'Profession':'Engineer'}\n",
    "d2.update(d3)\n",
    "print(\"After Update :\",d2)"
   ]
  },
  {
   "cell_type": "code",
   "execution_count": 20,
   "metadata": {},
   "outputs": [
    {
     "name": "stdout",
     "output_type": "stream",
     "text": [
      "dict_values([' Data', 'GUVI', 'GEEK', 'Python', 'Happy'])\n"
     ]
    }
   ],
   "source": [
    "#2.)L.) dict.values()\n",
    "dictionaries = {0:\" Data\",1: \"GUVI\", 2:\"GEEK\",3:\"Python\",4:\"Happy\"}\n",
    "d4=dictionaries.values()\n",
    "print(d4)"
   ]
  },
  {
   "cell_type": "markdown",
   "metadata": {},
   "source": [
    "# Conditional Statements\n",
    "1. IF\n",
    "2. IF-ELSE\n",
    "3. If...Elif...Else\n",
    "1. Write if statement 13 is greater than 25?\n",
    "\n",
    "2. Write a if else statement to find if the number is divisible by 25?\n",
    "\n",
    "3.Using the three variables 'a = 154; b = 2451; c = 6054',\n",
    "Write a If...Elif...Else statement to find the greatest number\n"
   ]
  },
  {
   "cell_type": "code",
   "execution_count": 24,
   "metadata": {},
   "outputs": [
    {
     "name": "stdout",
     "output_type": "stream",
     "text": [
      "False\n"
     ]
    }
   ],
   "source": [
    "#Conditional statements\n",
    "#1. Write if statement 13 is greater than 25?\n",
    "if 13>25:\n",
    "    print(\"True\")\n",
    "if 13<25:\n",
    "    print(\"False\")\n"
   ]
  },
  {
   "cell_type": "code",
   "execution_count": 5,
   "metadata": {},
   "outputs": [
    {
     "name": "stdout",
     "output_type": "stream",
     "text": [
      "125 is divisible by 25.\n"
     ]
    }
   ],
   "source": [
    "#2. Write a if else statement to find if the number is divisible by 25?\n",
    "p=125\n",
    "if p%25==0:\n",
    "    print(p,\"is divisible by 25.\")\n",
    "else:\n",
    "    print(p,\"is not divisible by 25.\")"
   ]
  },
  {
   "cell_type": "code",
   "execution_count": 6,
   "metadata": {},
   "outputs": [
    {
     "name": "stdout",
     "output_type": "stream",
     "text": [
      "6054 is the greatest number.\n"
     ]
    }
   ],
   "source": [
    "#3.Using the three variables 'a = 154; b = 2451; c = 6054',\n",
    "#Write a If...Elif...Else statement to find the greatest number\n",
    "a=154\n",
    "b=2451\n",
    "c=6054\n",
    "\n",
    "if a>b and a>c:\n",
    "    print(a,\"is the greatest number.\")\n",
    "elif b>a and b>c:\n",
    "    print(b,\"is the greatest number.\")\n",
    "else:\n",
    "    print(c,\"is the greatest number.\")"
   ]
  }
 ],
 "metadata": {
  "kernelspec": {
   "display_name": "Python 3",
   "language": "python",
   "name": "python3"
  },
  "language_info": {
   "codemirror_mode": {
    "name": "ipython",
    "version": 3
   },
   "file_extension": ".py",
   "mimetype": "text/x-python",
   "name": "python",
   "nbconvert_exporter": "python",
   "pygments_lexer": "ipython3",
   "version": "3.11.6"
  }
 },
 "nbformat": 4,
 "nbformat_minor": 2
}
